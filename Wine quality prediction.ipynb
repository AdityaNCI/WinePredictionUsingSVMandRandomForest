{
 "cells": [
  {
   "cell_type": "code",
   "execution_count": 3,
   "metadata": {},
   "outputs": [],
   "source": [
    "# Wine quality prediction using random forest and SVM \n",
    "\n",
    "# importing python libraries\n",
    "from imblearn.under_sampling import TomekLinks, ClusterCentroids\n",
    "from sklearn.tree import DecisionTreeClassifier\n",
    "from sklearn.model_selection import train_test_split\n",
    "from sklearn.model_selection import train_test_split, GridSearchCV, cross_val_score\n",
    "from sklearn.preprocessing import StandardScaler, LabelEncoder\n",
    "from sklearn.svm import SVC\n",
    "from sklearn.ensemble import RandomForestClassifier\n",
    "import numpy as np\n",
    "from sklearn.metrics import confusion_matrix, classification_report\n",
    "from imblearn.over_sampling import SMOTE\n",
    "from imblearn.combine import SMOTETomek\n",
    "from collections import Counter\n",
    "import imblearn\n",
    "from sklearn.preprocessing import LabelEncoder\n",
    "import collections\n",
    "from sklearn.model_selection import StratifiedKFold\n",
    "from sklearn.model_selection import GridSearchCV\n",
    "from sklearn.pipeline import Pipeline\n",
    "from sklearn.model_selection import cross_val_score\n",
    "from sklearn.decomposition import PCA\n",
    "from sklearn.naive_bayes import GaussianNB\n",
    "from sklearn.neighbors import KNeighborsClassifier\n",
    "from sklearn import svm\n",
    "from sklearn.metrics import accuracy_score\n",
    "import pandas as pd\n",
    "import seaborn as sns\n",
    "import matplotlib.pyplot as plt\n",
    "%matplotlib inline\n",
    "\n"
   ]
  },
  {
   "cell_type": "code",
   "execution_count": 34,
   "metadata": {},
   "outputs": [],
   "source": [
    "# import wine dataset\n",
    "path = 'D:\\\\Notes\\\\Domain applications of predictive analysis\\\\winequalityN.csv'\n",
    "wine_dataset = pd.read_csv(path)\n",
    "\n",
    "wine_dataset.drop(wine_dataset.columns[[0]], axis = 1, inplace = True) \n",
    "wine_dataset.columns\n",
    "wine = wine_dataset"
   ]
  },
  {
   "cell_type": "code",
   "execution_count": 35,
   "metadata": {},
   "outputs": [
    {
     "data": {
      "text/plain": [
       "[('Medium', 4974), ('High', 1277), ('Low', 246)]"
      ]
     },
     "execution_count": 35,
     "metadata": {},
     "output_type": "execute_result"
    }
   ],
   "source": [
    "# Setting the quality parameter as low, high and medium\n",
    "quality = wine[\"quality\"].values\n",
    "category = []\n",
    "for num in quality:\n",
    "    if num < 5:\n",
    "        category.append(\"Low\")\n",
    "    elif num > 6:\n",
    "        category.append(\"High\")\n",
    "    else:\n",
    "        category.append(\"Medium\")\n",
    "\n",
    "[(i, category.count(i)) for i in set(category)]"
   ]
  },
  {
   "cell_type": "code",
   "execution_count": 55,
   "metadata": {},
   "outputs": [
    {
     "name": "stdout",
     "output_type": "stream",
     "text": [
      "Old data frame length: 6497 \n",
      "New data frame length: 6463 \n",
      "Number of rows with at least 1 NA value:  34\n"
     ]
    }
   ],
   "source": [
    "# Appending the new catergory column to the wine dataset\n",
    "category = pd.DataFrame(data=category, columns=[\"category\"])\n",
    "data = pd.concat([wine, category], axis=1)\n",
    "\n",
    "# dropping the variable quality\n",
    "data.drop(columns=\"quality\", axis=1, inplace=True)\n",
    "\n",
    "# dropping the records with NAN values\n",
    "data = data.dropna(axis = 0, how ='any') \n",
    "\n",
    "print(\"Old data frame length:\", len(wine_dataset), \"\\nNew data frame length:\",  \n",
    "       len(wine), \"\\nNumber of rows with at least 1 NA value: \", \n",
    "       (len(wine_dataset)-len(wine))) \n",
    "\n",
    "X = data.iloc[:, :-1].values\n",
    "y = data.iloc[:, -1].values\n",
    "labelencoder_y = LabelEncoder()\n",
    "y = labelencoder_y.fit_transform(y)"
   ]
  },
  {
   "cell_type": "code",
   "execution_count": 46,
   "metadata": {},
   "outputs": [
    {
     "name": "stdout",
     "output_type": "stream",
     "text": [
      "   fixed acidity  volatile acidity  citric acid  residual sugar  chlorides  \\\n",
      "0            7.0              0.27         0.36            20.7      0.045   \n",
      "1            6.3              0.30         0.34             1.6      0.049   \n",
      "2            8.1              0.28         0.40             6.9      0.050   \n",
      "3            7.2              0.23         0.32             8.5      0.058   \n",
      "4            7.2              0.23         0.32             8.5      0.058   \n",
      "\n",
      "   free sulfur dioxide  total sulfur dioxide  density    pH  sulphates  \\\n",
      "0                 45.0                 170.0   1.0010  3.00       0.45   \n",
      "1                 14.0                 132.0   0.9940  3.30       0.49   \n",
      "2                 30.0                  97.0   0.9951  3.26       0.44   \n",
      "3                 47.0                 186.0   0.9956  3.19       0.40   \n",
      "4                 47.0                 186.0   0.9956  3.19       0.40   \n",
      "\n",
      "   alcohol category  \n",
      "0      8.8   Medium  \n",
      "1      9.5   Medium  \n",
      "2     10.1   Medium  \n",
      "3      9.9   Medium  \n",
      "4      9.9   Medium  \n"
     ]
    }
   ],
   "source": [
    "print(data.head())\n"
   ]
  },
  {
   "cell_type": "code",
   "execution_count": 47,
   "metadata": {},
   "outputs": [],
   "source": [
    "# Splitting the data into test and train sets\n",
    "X_train, X_test, y_train, y_test = train_test_split(\n",
    "    X, y, test_size=0.2, random_state=2018)\n",
    "\n"
   ]
  },
  {
   "cell_type": "code",
   "execution_count": 48,
   "metadata": {},
   "outputs": [
    {
     "data": {
      "text/plain": [
       "GridSearchCV(cv=5, error_score=nan,\n",
       "             estimator=RandomForestClassifier(bootstrap=True, ccp_alpha=0.0,\n",
       "                                              class_weight=None,\n",
       "                                              criterion='gini', max_depth=None,\n",
       "                                              max_features='auto',\n",
       "                                              max_leaf_nodes=None,\n",
       "                                              max_samples=None,\n",
       "                                              min_impurity_decrease=0.0,\n",
       "                                              min_impurity_split=None,\n",
       "                                              min_samples_leaf=1,\n",
       "                                              min_samples_split=2,\n",
       "                                              min_weight_fraction_leaf=0.0,\n",
       "                                              n_estimators=100, n_jobs=None,\n",
       "                                              oob_score=True, random_state=2018,\n",
       "                                              verbose=0, warm_start=False),\n",
       "             iid='deprecated', n_jobs=None,\n",
       "             param_grid={'min_samples_leaf': [1, 2, 4],\n",
       "                         'n_estimators': [50, 100, 150, 200, 250]},\n",
       "             pre_dispatch='2*n_jobs', refit=True, return_train_score=False,\n",
       "             scoring='accuracy', verbose=0)"
      ]
     },
     "execution_count": 48,
     "metadata": {},
     "output_type": "execute_result"
    }
   ],
   "source": [
    "# Applying random forest on train data to train the model\n",
    "clf = RandomForestClassifier(random_state=2018, oob_score=True)\n",
    "param_dist = {\"n_estimators\": [50, 100, 150, 200, 250],\n",
    "              'min_samples_leaf': [1, 2, 4]}\n",
    "rfc_gs = GridSearchCV(clf, param_grid=param_dist, scoring='accuracy', cv=5)\n",
    "rfc_gs.fit(X_train, y_train)"
   ]
  },
  {
   "cell_type": "code",
   "execution_count": 49,
   "metadata": {},
   "outputs": [
    {
     "data": {
      "text/plain": [
       "0.8468085106382979"
      ]
     },
     "execution_count": 49,
     "metadata": {},
     "output_type": "execute_result"
    }
   ],
   "source": [
    "# Accuracy of random forest model after training on test data \n",
    "rfc_gs.best_score_"
   ]
  },
  {
   "cell_type": "code",
   "execution_count": 50,
   "metadata": {},
   "outputs": [],
   "source": [
    "# strtifiedKFold\n",
    "skf = StratifiedKFold(n_splits=4)"
   ]
  },
  {
   "cell_type": "code",
   "execution_count": 51,
   "metadata": {},
   "outputs": [
    {
     "data": {
      "text/plain": [
       "GridSearchCV(cv=StratifiedKFold(n_splits=4, random_state=None, shuffle=False),\n",
       "             error_score=nan,\n",
       "             estimator=Pipeline(memory=None,\n",
       "                                steps=[('clf',\n",
       "                                        SVC(C=1.0, break_ties=False,\n",
       "                                            cache_size=200, class_weight=None,\n",
       "                                            coef0=0.0,\n",
       "                                            decision_function_shape='ovr',\n",
       "                                            degree=3, gamma='scale',\n",
       "                                            kernel='rbf', max_iter=-1,\n",
       "                                            probability=False,\n",
       "                                            random_state=None, shrinking=True,\n",
       "                                            tol=0.001, verbose=False))],\n",
       "                                verbose=False),\n",
       "             iid='deprecated', n_jobs=None,\n",
       "             param_grid={'clf__C': [0.1, 0.3, 1, 3, 10],\n",
       "                         'clf__gamma': [0.1, 0.3, 1, 3, 10],\n",
       "                         'clf__kernel': ['rbf', 'sigmoid']},\n",
       "             pre_dispatch='2*n_jobs', refit=True, return_train_score=False,\n",
       "             scoring='accuracy', verbose=0)"
      ]
     },
     "execution_count": 51,
     "metadata": {},
     "output_type": "execute_result"
    }
   ],
   "source": [
    "# Applying SVM on train data to train the model\n",
    "pipe_svm = Pipeline([('clf', svm.SVC())])\n",
    "grid_params = dict(clf__C=[0.1, 0.3, 1, 3, 10],\n",
    "                   clf__gamma=[0.1, 0.3, 1, 3, 10],\n",
    "                   clf__kernel=['rbf', 'sigmoid'])\n",
    "gs_svm = GridSearchCV(estimator=pipe_svm,\n",
    "                      param_grid=grid_params,\n",
    "                      scoring='accuracy',\n",
    "                      cv=skf)\n",
    "gs_svm.fit(X_train, y_train)"
   ]
  },
  {
   "cell_type": "code",
   "execution_count": 52,
   "metadata": {},
   "outputs": [
    {
     "name": "stdout",
     "output_type": "stream",
     "text": [
      "0.8226307588611217\n"
     ]
    }
   ],
   "source": [
    "# Accuracy of SVM model after training on test data \n",
    "print(gs_svm.best_score_)"
   ]
  },
  {
   "cell_type": "code",
   "execution_count": 53,
   "metadata": {},
   "outputs": [
    {
     "name": "stdout",
     "output_type": "stream",
     "text": [
      "              precision    recall  f1-score   support\n",
      "\n",
      "           0       0.82      0.59      0.69       263\n",
      "           1       0.83      0.11      0.19        46\n",
      "           2       0.87      0.97      0.91       984\n",
      "\n",
      "    accuracy                           0.86      1293\n",
      "   macro avg       0.84      0.55      0.60      1293\n",
      "weighted avg       0.85      0.86      0.84      1293\n",
      "\n",
      "The RF model accuracy on Test data is 0.8584686774941995\n"
     ]
    }
   ],
   "source": [
    "# performance random forest on test data \n",
    "pred_rfc = rfc_gs.predict(X_test)\n",
    "print(classification_report(y_test, pred_rfc))\n",
    "print(\"The RF model accuracy on Test data is %s\" %\n",
    "      accuracy_score(y_test, pred_rfc))"
   ]
  },
  {
   "cell_type": "code",
   "execution_count": 54,
   "metadata": {},
   "outputs": [
    {
     "name": "stdout",
     "output_type": "stream",
     "text": [
      "              precision    recall  f1-score   support\n",
      "\n",
      "           0       0.98      0.32      0.49       263\n",
      "           1       1.00      0.07      0.12        46\n",
      "           2       0.82      1.00      0.90       984\n",
      "\n",
      "    accuracy                           0.83      1293\n",
      "   macro avg       0.93      0.46      0.50      1293\n",
      "weighted avg       0.86      0.83      0.79      1293\n",
      "\n",
      "---------------------------------------------------------\n",
      "The accuracy score of SVM (resampled) on test is 0.8275328692962104\n"
     ]
    }
   ],
   "source": [
    "# performance of SVM on test data\n",
    "svm_predicted = gs_svm.predict(X_test)\n",
    "print(classification_report(y_test, svm_predicted))\n",
    "print(\"---------------------------------------------------------\")\n",
    "print(\"The accuracy score of SVM (resampled) on test is %s\" %\n",
    "      accuracy_score(y_test, svm_predicted))"
   ]
  }
 ],
 "metadata": {
  "kernelspec": {
   "display_name": "Python 3",
   "language": "python",
   "name": "python3"
  },
  "language_info": {
   "codemirror_mode": {
    "name": "ipython",
    "version": 3
   },
   "file_extension": ".py",
   "mimetype": "text/x-python",
   "name": "python",
   "nbconvert_exporter": "python",
   "pygments_lexer": "ipython3",
   "version": "3.7.3"
  }
 },
 "nbformat": 4,
 "nbformat_minor": 2
}
